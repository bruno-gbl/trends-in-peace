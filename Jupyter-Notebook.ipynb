{
 "cells": [
  {
   "cell_type": "code",
   "execution_count": null,
   "metadata": {},
   "outputs": [],
   "source": [
    "# We will work in this notebook to create the necessary graphs."
    "# We will work in this notebook to create the necessary graphs.\n",
    "# Testing how to commit a change.\n",
    "print(\"Hello World\")\n",
    "\n",
    "\n",
    "# Test line."
   ]
  },
  {
   "cell_type": "code",
   "execution_count": null,
   "metadata": {},
   "outputs": [],
   "source": []
  }
 ],
 "metadata": {
  "language_info": {
   "name": "python"
  }
 },
 "nbformat": 4,
 "nbformat_minor": 2
}
